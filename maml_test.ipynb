{
 "cells": [
  {
   "cell_type": "code",
   "execution_count": 1,
   "metadata": {},
   "outputs": [],
   "source": [
    "import numpy as np\n",
    "import torch\n",
    "import torch.nn as nn\n",
    "from torch import nn, optim\n",
    "from torch.utils.data import DataLoader\n",
    "from utils.dataloader import MiniImagenet\n",
    "from common.cnn_models import FewshotClassifier\n",
    "from maml.models import MAML\n",
    "from maml.utils import fast_adapt\n",
    "from tqdm import tqdm"
   ]
  },
  {
   "cell_type": "code",
   "execution_count": 2,
   "metadata": {},
   "outputs": [],
   "source": [
    "torch.manual_seed(777)\n",
    "torch.cuda.manual_seed_all(777)\n",
    "np.random.seed(777)\n",
    "device = torch.device('cuda' if torch.cuda.is_available() else 'cpu')"
   ]
  },
  {
   "cell_type": "code",
   "execution_count": 3,
   "metadata": {},
   "outputs": [],
   "source": [
    "N = 5\n",
    "K = 1\n",
    "Q = 15\n",
    "batch_size = 8\n",
    "meta_lr=0.003\n",
    "fast_lr=0.5\n",
    "adaptation_steps=1"
   ]
  },
  {
   "cell_type": "code",
   "execution_count": 4,
   "metadata": {},
   "outputs": [],
   "source": [
    "root_path = './datasets/miniimagenet/pkl_file/' \n",
    "train_dataset = MiniImagenet(path=root_path, N=N, K=K, Q=Q, mode='train')\n",
    "train_loader = DataLoader(train_dataset, batch_size=batch_size,\\\n",
    "                          shuffle=True, num_workers=1)\n",
    "val_dataset = MiniImagenet(path=root_path, N=N, K=K, Q=Q, mode='validation', total_iter=1000)\n",
    "val_loader = DataLoader(val_dataset, batch_size=batch_size,\\\n",
    "                        shuffle=True, num_workers=1)\n",
    "test_dataset = MiniImagenet(path=root_path, N=N, K=K, Q=Q, mode='test', total_iter=5000)\n",
    "test_loader = DataLoader(test_dataset, batch_size=batch_size,\\\n",
    "                         shuffle=True, num_workers=1)"
   ]
  },
  {
   "cell_type": "code",
   "execution_count": 5,
   "metadata": {},
   "outputs": [],
   "source": [
    "# Create model\n",
    "model = FewshotClassifier(output_size=N)\n",
    "model.to(device)\n",
    "maml = MAML(model, lr=fast_lr, first_order=False)\n",
    "maml.to(device)\n",
    "opt = optim.Adam(maml.parameters(), meta_lr)\n",
    "loss = nn.CrossEntropyLoss(reduction='mean')"
   ]
  },
  {
   "cell_type": "code",
   "execution_count": 6,
   "metadata": {},
   "outputs": [
    {
     "name": "stderr",
     "output_type": "stream",
     "text": [
      "  0%|          | 0/7500 [00:00<?, ?it/s]/root/anaconda3/envs/graph_rec/lib/python3.8/site-packages/torch/nn/functional.py:718: UserWarning: Named tensors and all their associated APIs are an experimental feature and subject to change. Please do not use them for anything important until they are released as stable. (Triggered internally at  /opt/conda/conda-bld/pytorch_1623448234945/work/c10/core/TensorImpl.h:1156.)\n",
      "  return torch.max_pool2d(input, kernel_size, stride, padding, dilation, ceil_mode)\n",
      "  2%|▏         | 125/7500 [00:32<31:02,  3.96it/s]"
     ]
    },
    {
     "name": "stdout",
     "output_type": "stream",
     "text": [
      "Iteration 1000\n",
      "Meta Train Error 3.548592448234558\n",
      "Meta Train Error 0.4633333422243595\n"
     ]
    },
    {
     "name": "stderr",
     "output_type": "stream",
     "text": [
      "  3%|▎         | 250/7500 [01:03<31:33,  3.83it/s]"
     ]
    },
    {
     "name": "stdout",
     "output_type": "stream",
     "text": [
      "Iteration 2000\n",
      "Meta Train Error 3.1803328096866608\n",
      "Meta Train Error 0.5100000128149986\n"
     ]
    },
    {
     "name": "stderr",
     "output_type": "stream",
     "text": [
      "  5%|▌         | 375/7500 [01:35<29:59,  3.96it/s]"
     ]
    },
    {
     "name": "stdout",
     "output_type": "stream",
     "text": [
      "Iteration 3000\n",
      "Meta Train Error 3.2033116221427917\n",
      "Meta Train Error 0.5266666822135448\n"
     ]
    },
    {
     "name": "stderr",
     "output_type": "stream",
     "text": [
      "  7%|▋         | 500/7500 [02:07<29:39,  3.93it/s]"
     ]
    },
    {
     "name": "stdout",
     "output_type": "stream",
     "text": [
      "Iteration 4000\n",
      "Meta Train Error 3.0240584313869476\n",
      "Meta Train Error 0.666666679084301\n"
     ]
    },
    {
     "name": "stderr",
     "output_type": "stream",
     "text": [
      "  8%|▊         | 624/7500 [02:38<29:05,  3.94it/s]"
     ]
    },
    {
     "name": "stdout",
     "output_type": "stream",
     "text": [
      "Iteration 5000\n",
      "Meta Train Error 3.1707969307899475\n",
      "Meta Train Error 0.5433333441615105\n"
     ]
    },
    {
     "name": "stderr",
     "output_type": "stream",
     "text": [
      "  8%|▊         | 625/7500 [02:59<12:31:18,  6.56s/it]"
     ]
    },
    {
     "name": "stdout",
     "output_type": "stream",
     "text": [
      "Valid Result\n",
      "Meta Valid Error :  1.567244961977005\n",
      "Meta Valid Accuracy :  0.2865200060456991  std :  0.08335438652692144\n"
     ]
    },
    {
     "name": "stderr",
     "output_type": "stream",
     "text": [
      " 10%|█         | 750/7500 [03:31<28:42,  3.92it/s]   "
     ]
    },
    {
     "name": "stdout",
     "output_type": "stream",
     "text": [
      "Iteration 6000\n",
      "Meta Train Error 3.0748651027679443\n",
      "Meta Train Error 0.6133333407342434\n"
     ]
    },
    {
     "name": "stderr",
     "output_type": "stream",
     "text": [
      " 12%|█▏        | 875/7500 [04:03<28:02,  3.94it/s]"
     ]
    },
    {
     "name": "stdout",
     "output_type": "stream",
     "text": [
      "Iteration 7000\n",
      "Meta Train Error 3.0864515602588654\n",
      "Meta Train Error 0.676666684448719\n"
     ]
    },
    {
     "name": "stderr",
     "output_type": "stream",
     "text": [
      " 13%|█▎        | 1000/7500 [04:35<27:34,  3.93it/s]"
     ]
    },
    {
     "name": "stdout",
     "output_type": "stream",
     "text": [
      "Iteration 8000\n",
      "Meta Train Error 2.8263639509677887\n",
      "Meta Train Error 0.7433333396911621\n"
     ]
    },
    {
     "name": "stderr",
     "output_type": "stream",
     "text": [
      " 15%|█▌        | 1125/7500 [05:07<27:06,  3.92it/s]"
     ]
    },
    {
     "name": "stdout",
     "output_type": "stream",
     "text": [
      "Iteration 9000\n",
      "Meta Train Error 2.853819817304611\n",
      "Meta Train Error 0.7633333541452885\n"
     ]
    },
    {
     "name": "stderr",
     "output_type": "stream",
     "text": [
      " 17%|█▋        | 1249/7500 [05:38<26:22,  3.95it/s]"
     ]
    },
    {
     "name": "stdout",
     "output_type": "stream",
     "text": [
      "Iteration 10000\n",
      "Meta Train Error 2.9128872752189636\n",
      "Meta Train Error 0.783333346247673\n"
     ]
    },
    {
     "name": "stderr",
     "output_type": "stream",
     "text": [
      " 17%|█▋        | 1250/7500 [06:00<11:16:29,  6.49s/it]"
     ]
    },
    {
     "name": "stdout",
     "output_type": "stream",
     "text": [
      "Valid Result\n",
      "Meta Valid Error :  1.5280929988622665\n",
      "Meta Valid Accuracy :  0.3259066734910011  std :  0.10500354519598899\n"
     ]
    },
    {
     "name": "stderr",
     "output_type": "stream",
     "text": [
      " 18%|█▊        | 1375/7500 [06:31<25:51,  3.95it/s]   "
     ]
    },
    {
     "name": "stdout",
     "output_type": "stream",
     "text": [
      "Iteration 11000\n",
      "Meta Train Error 2.799357682466507\n",
      "Meta Train Error 0.7433333545923233\n"
     ]
    },
    {
     "name": "stderr",
     "output_type": "stream",
     "text": [
      " 20%|██        | 1500/7500 [07:03<25:18,  3.95it/s]"
     ]
    },
    {
     "name": "stdout",
     "output_type": "stream",
     "text": [
      "Iteration 12000\n",
      "Meta Train Error 2.7568684220314026\n",
      "Meta Train Error 0.856666699051857\n"
     ]
    },
    {
     "name": "stderr",
     "output_type": "stream",
     "text": [
      " 22%|██▏       | 1625/7500 [07:35<24:56,  3.93it/s]"
     ]
    },
    {
     "name": "stdout",
     "output_type": "stream",
     "text": [
      "Iteration 13000\n",
      "Meta Train Error 2.811398059129715\n",
      "Meta Train Error 0.8333333507180214\n"
     ]
    },
    {
     "name": "stderr",
     "output_type": "stream",
     "text": [
      " 23%|██▎       | 1750/7500 [08:07<24:33,  3.90it/s]"
     ]
    },
    {
     "name": "stdout",
     "output_type": "stream",
     "text": [
      "Iteration 14000\n",
      "Meta Train Error 2.6892464458942413\n",
      "Meta Train Error 0.8833333551883698\n"
     ]
    },
    {
     "name": "stderr",
     "output_type": "stream",
     "text": [
      " 25%|██▍       | 1874/7500 [08:39<23:47,  3.94it/s]"
     ]
    },
    {
     "name": "stdout",
     "output_type": "stream",
     "text": [
      "Iteration 15000\n",
      "Meta Train Error 2.8890113532543182\n",
      "Meta Train Error 0.7600000128149986\n"
     ]
    },
    {
     "name": "stderr",
     "output_type": "stream",
     "text": [
      " 25%|██▌       | 1875/7500 [09:00<10:16:28,  6.58s/it]"
     ]
    },
    {
     "name": "stdout",
     "output_type": "stream",
     "text": [
      "Valid Result\n",
      "Meta Valid Error :  1.4711107640266419\n",
      "Meta Valid Accuracy :  0.3681066748648882  std :  0.12669357795716024\n"
     ]
    },
    {
     "name": "stderr",
     "output_type": "stream",
     "text": [
      " 27%|██▋       | 2000/7500 [09:32<23:10,  3.96it/s]   "
     ]
    },
    {
     "name": "stdout",
     "output_type": "stream",
     "text": [
      "Iteration 16000\n",
      "Meta Train Error 2.695343554019928\n",
      "Meta Train Error 0.9333333522081375\n"
     ]
    },
    {
     "name": "stderr",
     "output_type": "stream",
     "text": [
      " 28%|██▊       | 2125/7500 [10:03<22:42,  3.95it/s]"
     ]
    },
    {
     "name": "stdout",
     "output_type": "stream",
     "text": [
      "Iteration 17000\n",
      "Meta Train Error 2.7572497129440308\n",
      "Meta Train Error 0.8333333693444729\n"
     ]
    },
    {
     "name": "stderr",
     "output_type": "stream",
     "text": [
      " 30%|███       | 2250/7500 [10:35<22:06,  3.96it/s]"
     ]
    },
    {
     "name": "stdout",
     "output_type": "stream",
     "text": [
      "Iteration 18000\n",
      "Meta Train Error 2.773266524076462\n",
      "Meta Train Error 0.8300000093877316\n"
     ]
    },
    {
     "name": "stderr",
     "output_type": "stream",
     "text": [
      " 32%|███▏      | 2375/7500 [11:07<21:59,  3.88it/s]"
     ]
    },
    {
     "name": "stdout",
     "output_type": "stream",
     "text": [
      "Iteration 19000\n",
      "Meta Train Error 2.75663298368454\n",
      "Meta Train Error 0.8600000217556953\n"
     ]
    },
    {
     "name": "stderr",
     "output_type": "stream",
     "text": [
      " 33%|███▎      | 2499/7500 [11:39<20:55,  3.98it/s]"
     ]
    },
    {
     "name": "stdout",
     "output_type": "stream",
     "text": [
      "Iteration 20000\n",
      "Meta Train Error 2.608903229236603\n",
      "Meta Train Error 0.9600000232458115\n"
     ]
    },
    {
     "name": "stderr",
     "output_type": "stream",
     "text": [
      " 33%|███▎      | 2500/7500 [12:00<9:00:26,  6.49s/it]"
     ]
    },
    {
     "name": "stdout",
     "output_type": "stream",
     "text": [
      "Valid Result\n",
      "Meta Valid Error :  1.447327131986618\n",
      "Meta Valid Accuracy :  0.3875333417057991  std :  0.1401058516728079\n"
     ]
    },
    {
     "name": "stderr",
     "output_type": "stream",
     "text": [
      " 35%|███▌      | 2625/7500 [12:32<20:42,  3.92it/s]  "
     ]
    },
    {
     "name": "stdout",
     "output_type": "stream",
     "text": [
      "Iteration 21000\n",
      "Meta Train Error 2.607917070388794\n",
      "Meta Train Error 0.9066666960716248\n"
     ]
    },
    {
     "name": "stderr",
     "output_type": "stream",
     "text": [
      " 37%|███▋      | 2750/7500 [13:03<20:02,  3.95it/s]"
     ]
    },
    {
     "name": "stdout",
     "output_type": "stream",
     "text": [
      "Iteration 22000\n",
      "Meta Train Error 2.326435685157776\n",
      "Meta Train Error 1.1066666841506958\n"
     ]
    },
    {
     "name": "stderr",
     "output_type": "stream",
     "text": [
      " 38%|███▊      | 2875/7500 [13:35<19:25,  3.97it/s]"
     ]
    },
    {
     "name": "stdout",
     "output_type": "stream",
     "text": [
      "Iteration 23000\n",
      "Meta Train Error 2.5056224167346954\n",
      "Meta Train Error 0.976666696369648\n"
     ]
    },
    {
     "name": "stderr",
     "output_type": "stream",
     "text": [
      " 40%|████      | 3000/7500 [14:07<18:59,  3.95it/s]"
     ]
    },
    {
     "name": "stdout",
     "output_type": "stream",
     "text": [
      "Iteration 24000\n",
      "Meta Train Error 2.4532414972782135\n",
      "Meta Train Error 1.003333367407322\n"
     ]
    },
    {
     "name": "stderr",
     "output_type": "stream",
     "text": [
      " 42%|████▏     | 3124/7500 [14:38<18:37,  3.92it/s]"
     ]
    },
    {
     "name": "stdout",
     "output_type": "stream",
     "text": [
      "Iteration 25000\n",
      "Meta Train Error 2.3961819857358932\n",
      "Meta Train Error 1.0233333557844162\n"
     ]
    },
    {
     "name": "stderr",
     "output_type": "stream",
     "text": [
      " 42%|████▏     | 3125/7500 [14:59<7:57:24,  6.55s/it]"
     ]
    },
    {
     "name": "stdout",
     "output_type": "stream",
     "text": [
      "Valid Result\n",
      "Meta Valid Error :  1.4057217273116112\n",
      "Meta Valid Accuracy :  0.40802667586505414  std :  0.1561622334187434\n"
     ]
    },
    {
     "name": "stderr",
     "output_type": "stream",
     "text": [
      " 43%|████▎     | 3250/7500 [15:32<18:10,  3.90it/s]  "
     ]
    },
    {
     "name": "stdout",
     "output_type": "stream",
     "text": [
      "Iteration 26000\n",
      "Meta Train Error 2.728569447994232\n",
      "Meta Train Error 0.8933333456516266\n"
     ]
    },
    {
     "name": "stderr",
     "output_type": "stream",
     "text": [
      " 45%|████▌     | 3375/7500 [16:03<17:31,  3.92it/s]"
     ]
    },
    {
     "name": "stdout",
     "output_type": "stream",
     "text": [
      "Iteration 27000\n",
      "Meta Train Error 2.6625219583511353\n",
      "Meta Train Error 0.9133333414793015\n"
     ]
    },
    {
     "name": "stderr",
     "output_type": "stream",
     "text": [
      " 47%|████▋     | 3500/7500 [16:35<16:50,  3.96it/s]"
     ]
    },
    {
     "name": "stdout",
     "output_type": "stream",
     "text": [
      "Iteration 28000\n",
      "Meta Train Error 2.811162233352661\n",
      "Meta Train Error 0.8200000040233135\n"
     ]
    },
    {
     "name": "stderr",
     "output_type": "stream",
     "text": [
      " 48%|████▊     | 3625/7500 [17:07<16:45,  3.86it/s]"
     ]
    },
    {
     "name": "stdout",
     "output_type": "stream",
     "text": [
      "Iteration 29000\n",
      "Meta Train Error 2.512761741876602\n",
      "Meta Train Error 0.9933333545923233\n"
     ]
    },
    {
     "name": "stderr",
     "output_type": "stream",
     "text": [
      " 50%|████▉     | 3749/7500 [17:38<15:49,  3.95it/s]"
     ]
    },
    {
     "name": "stdout",
     "output_type": "stream",
     "text": [
      "Iteration 30000\n",
      "Meta Train Error 2.5350708067417145\n",
      "Meta Train Error 0.976666696369648\n"
     ]
    },
    {
     "name": "stderr",
     "output_type": "stream",
     "text": [
      " 50%|█████     | 3750/7500 [17:59<6:44:20,  6.47s/it]"
     ]
    },
    {
     "name": "stdout",
     "output_type": "stream",
     "text": [
      "Valid Result\n",
      "Meta Valid Error :  1.3934746989011764\n",
      "Meta Valid Accuracy :  0.4167733429968357  std :  0.16350994787600182\n"
     ]
    },
    {
     "name": "stderr",
     "output_type": "stream",
     "text": [
      " 52%|█████▏    | 3875/7500 [18:31<15:24,  3.92it/s]  "
     ]
    },
    {
     "name": "stdout",
     "output_type": "stream",
     "text": [
      "Iteration 31000\n",
      "Meta Train Error 2.647527754306793\n",
      "Meta Train Error 0.9400000274181366\n"
     ]
    },
    {
     "name": "stderr",
     "output_type": "stream",
     "text": [
      " 53%|█████▎    | 4000/7500 [19:03<14:49,  3.94it/s]"
     ]
    },
    {
     "name": "stdout",
     "output_type": "stream",
     "text": [
      "Iteration 32000\n",
      "Meta Train Error 2.722761854529381\n",
      "Meta Train Error 0.8766666911542416\n"
     ]
    },
    {
     "name": "stderr",
     "output_type": "stream",
     "text": [
      " 55%|█████▌    | 4125/7500 [19:35<14:13,  3.95it/s]"
     ]
    },
    {
     "name": "stdout",
     "output_type": "stream",
     "text": [
      "Iteration 33000\n",
      "Meta Train Error 2.4940733462572098\n",
      "Meta Train Error 0.9133333414793015\n"
     ]
    },
    {
     "name": "stderr",
     "output_type": "stream",
     "text": [
      " 57%|█████▋    | 4250/7500 [20:07<13:57,  3.88it/s]"
     ]
    },
    {
     "name": "stdout",
     "output_type": "stream",
     "text": [
      "Iteration 34000\n",
      "Meta Train Error 2.432102531194687\n",
      "Meta Train Error 1.0366666838526726\n"
     ]
    },
    {
     "name": "stderr",
     "output_type": "stream",
     "text": [
      " 58%|█████▊    | 4374/7500 [20:39<13:12,  3.94it/s]"
     ]
    },
    {
     "name": "stdout",
     "output_type": "stream",
     "text": [
      "Iteration 35000\n",
      "Meta Train Error 2.285119727253914\n",
      "Meta Train Error 1.0766666904091835\n"
     ]
    },
    {
     "name": "stderr",
     "output_type": "stream",
     "text": [
      " 58%|█████▊    | 4375/7500 [20:59<5:33:05,  6.40s/it]"
     ]
    },
    {
     "name": "stdout",
     "output_type": "stream",
     "text": [
      "Valid Result\n",
      "Meta Valid Error :  1.3730271518826485\n",
      "Meta Valid Accuracy :  0.42472000969946383  std :  0.1593074577542633\n"
     ]
    },
    {
     "name": "stderr",
     "output_type": "stream",
     "text": [
      " 60%|██████    | 4500/7500 [21:31<12:49,  3.90it/s]  "
     ]
    },
    {
     "name": "stdout",
     "output_type": "stream",
     "text": [
      "Iteration 36000\n",
      "Meta Train Error 2.619266599416733\n",
      "Meta Train Error 0.940000019967556\n"
     ]
    },
    {
     "name": "stderr",
     "output_type": "stream",
     "text": [
      " 62%|██████▏   | 4625/7500 [22:03<12:04,  3.97it/s]"
     ]
    },
    {
     "name": "stdout",
     "output_type": "stream",
     "text": [
      "Iteration 37000\n",
      "Meta Train Error 2.4627963602542877\n",
      "Meta Train Error 0.9866666868329048\n"
     ]
    },
    {
     "name": "stderr",
     "output_type": "stream",
     "text": [
      " 63%|██████▎   | 4750/7500 [22:35<11:40,  3.92it/s]"
     ]
    },
    {
     "name": "stdout",
     "output_type": "stream",
     "text": [
      "Iteration 38000\n",
      "Meta Train Error 2.237085923552513\n",
      "Meta Train Error 1.1166667118668556\n"
     ]
    },
    {
     "name": "stderr",
     "output_type": "stream",
     "text": [
      " 65%|██████▌   | 4875/7500 [23:07<11:09,  3.92it/s]"
     ]
    },
    {
     "name": "stdout",
     "output_type": "stream",
     "text": [
      "Iteration 39000\n",
      "Meta Train Error 2.425740748643875\n",
      "Meta Train Error 1.0166666805744171\n"
     ]
    },
    {
     "name": "stderr",
     "output_type": "stream",
     "text": [
      " 67%|██████▋   | 4999/7500 [23:38<10:29,  3.98it/s]"
     ]
    },
    {
     "name": "stdout",
     "output_type": "stream",
     "text": [
      "Iteration 40000\n",
      "Meta Train Error 2.13297376036644\n",
      "Meta Train Error 1.2466666996479034\n"
     ]
    },
    {
     "name": "stderr",
     "output_type": "stream",
     "text": [
      " 67%|██████▋   | 5000/7500 [23:59<4:21:55,  6.29s/it]"
     ]
    },
    {
     "name": "stdout",
     "output_type": "stream",
     "text": [
      "Valid Result\n",
      "Meta Valid Error :  1.3613393127918243\n",
      "Meta Valid Accuracy :  0.4357866762429476  std :  0.17729712531935393\n"
     ]
    },
    {
     "name": "stderr",
     "output_type": "stream",
     "text": [
      " 68%|██████▊   | 5125/7500 [24:30<10:08,  3.91it/s]  "
     ]
    },
    {
     "name": "stdout",
     "output_type": "stream",
     "text": [
      "Iteration 41000\n",
      "Meta Train Error 2.5209033340215683\n",
      "Meta Train Error 0.9133333340287209\n"
     ]
    },
    {
     "name": "stderr",
     "output_type": "stream",
     "text": [
      " 70%|███████   | 5250/7500 [25:02<09:16,  4.04it/s]"
     ]
    },
    {
     "name": "stdout",
     "output_type": "stream",
     "text": [
      "Iteration 42000\n",
      "Meta Train Error 2.299491301178932\n",
      "Meta Train Error 1.0800000131130219\n"
     ]
    },
    {
     "name": "stderr",
     "output_type": "stream",
     "text": [
      " 72%|███████▏  | 5375/7500 [25:33<08:46,  4.04it/s]"
     ]
    },
    {
     "name": "stdout",
     "output_type": "stream",
     "text": [
      "Iteration 43000\n",
      "Meta Train Error 2.225634679198265\n",
      "Meta Train Error 1.1166666895151138\n"
     ]
    },
    {
     "name": "stderr",
     "output_type": "stream",
     "text": [
      " 73%|███████▎  | 5500/7500 [26:04<08:23,  3.97it/s]"
     ]
    },
    {
     "name": "stdout",
     "output_type": "stream",
     "text": [
      "Iteration 44000\n",
      "Meta Train Error 2.1956450641155243\n",
      "Meta Train Error 1.1433333531022072\n"
     ]
    },
    {
     "name": "stderr",
     "output_type": "stream",
     "text": [
      " 75%|███████▍  | 5624/7500 [26:35<07:52,  3.97it/s]"
     ]
    },
    {
     "name": "stdout",
     "output_type": "stream",
     "text": [
      "Iteration 45000\n",
      "Meta Train Error 2.16292105615139\n",
      "Meta Train Error 1.1533333659172058\n"
     ]
    },
    {
     "name": "stderr",
     "output_type": "stream",
     "text": [
      " 75%|███████▌  | 5625/7500 [26:56<3:21:21,  6.44s/it]"
     ]
    },
    {
     "name": "stdout",
     "output_type": "stream",
     "text": [
      "Valid Result\n",
      "Meta Valid Error :  1.3449099182486535\n",
      "Meta Valid Accuracy :  0.44149334298074244  std :  0.16912230682008192\n"
     ]
    },
    {
     "name": "stderr",
     "output_type": "stream",
     "text": [
      " 77%|███████▋  | 5750/7500 [27:27<07:32,  3.86it/s]  "
     ]
    },
    {
     "name": "stdout",
     "output_type": "stream",
     "text": [
      "Iteration 46000\n",
      "Meta Train Error 2.1196274161338806\n",
      "Meta Train Error 1.21666669100523\n"
     ]
    },
    {
     "name": "stderr",
     "output_type": "stream",
     "text": [
      " 78%|███████▊  | 5875/7500 [27:58<06:39,  4.06it/s]"
     ]
    },
    {
     "name": "stdout",
     "output_type": "stream",
     "text": [
      "Iteration 47000\n",
      "Meta Train Error 2.2675233483314514\n",
      "Meta Train Error 1.0466666966676712\n"
     ]
    },
    {
     "name": "stderr",
     "output_type": "stream",
     "text": [
      " 80%|████████  | 6000/7500 [28:30<06:15,  3.99it/s]"
     ]
    },
    {
     "name": "stdout",
     "output_type": "stream",
     "text": [
      "Iteration 48000\n",
      "Meta Train Error 2.2813019901514053\n",
      "Meta Train Error 1.0866666957736015\n"
     ]
    },
    {
     "name": "stderr",
     "output_type": "stream",
     "text": [
      " 82%|████████▏ | 6125/7500 [29:00<05:18,  4.32it/s]"
     ]
    },
    {
     "name": "stdout",
     "output_type": "stream",
     "text": [
      "Iteration 49000\n",
      "Meta Train Error 2.3413216173648834\n",
      "Meta Train Error 1.0566666945815086\n"
     ]
    },
    {
     "name": "stderr",
     "output_type": "stream",
     "text": [
      " 83%|████████▎ | 6249/7500 [29:30<05:05,  4.09it/s]"
     ]
    },
    {
     "name": "stdout",
     "output_type": "stream",
     "text": [
      "Iteration 50000\n",
      "Meta Train Error 2.3164773136377335\n",
      "Meta Train Error 1.0633333548903465\n"
     ]
    },
    {
     "name": "stderr",
     "output_type": "stream",
     "text": [
      " 83%|████████▎ | 6250/7500 [29:51<2:11:46,  6.33s/it]"
     ]
    },
    {
     "name": "stdout",
     "output_type": "stream",
     "text": [
      "Valid Result\n",
      "Meta Valid Error :  1.3468253734111786\n",
      "Meta Valid Accuracy :  0.44105334328114987  std :  0.18070862718249833\n"
     ]
    },
    {
     "name": "stderr",
     "output_type": "stream",
     "text": [
      " 85%|████████▌ | 6375/7500 [30:22<04:37,  4.06it/s]  "
     ]
    },
    {
     "name": "stdout",
     "output_type": "stream",
     "text": [
      "Iteration 51000\n",
      "Meta Train Error 2.346715360879898\n",
      "Meta Train Error 1.0666666775941849\n"
     ]
    },
    {
     "name": "stderr",
     "output_type": "stream",
     "text": [
      " 87%|████████▋ | 6500/7500 [30:53<04:06,  4.05it/s]"
     ]
    },
    {
     "name": "stdout",
     "output_type": "stream",
     "text": [
      "Iteration 52000\n",
      "Meta Train Error 2.349168449640274\n",
      "Meta Train Error 1.0966666787862778\n"
     ]
    },
    {
     "name": "stderr",
     "output_type": "stream",
     "text": [
      " 88%|████████▊ | 6625/7500 [31:24<03:40,  3.97it/s]"
     ]
    },
    {
     "name": "stdout",
     "output_type": "stream",
     "text": [
      "Iteration 53000\n",
      "Meta Train Error 2.4034904688596725\n",
      "Meta Train Error 1.0100000128149986\n"
     ]
    },
    {
     "name": "stderr",
     "output_type": "stream",
     "text": [
      " 90%|█████████ | 6750/7500 [31:55<03:04,  4.06it/s]"
     ]
    },
    {
     "name": "stdout",
     "output_type": "stream",
     "text": [
      "Iteration 54000\n",
      "Meta Train Error 2.3302767872810364\n",
      "Meta Train Error 1.0033333599567413\n"
     ]
    },
    {
     "name": "stderr",
     "output_type": "stream",
     "text": [
      " 92%|█████████▏| 6874/7500 [32:26<02:33,  4.08it/s]"
     ]
    },
    {
     "name": "stdout",
     "output_type": "stream",
     "text": [
      "Iteration 55000\n",
      "Meta Train Error 2.3005583733320236\n",
      "Meta Train Error 1.0933333411812782\n"
     ]
    },
    {
     "name": "stderr",
     "output_type": "stream",
     "text": [
      " 92%|█████████▏| 6875/7500 [32:46<1:04:23,  6.18s/it]"
     ]
    },
    {
     "name": "stdout",
     "output_type": "stream",
     "text": [
      "Valid Result\n",
      "Meta Valid Error :  1.3355601305365563\n",
      "Meta Valid Accuracy :  0.4485733433663845  std :  0.18662137999675227\n"
     ]
    },
    {
     "name": "stderr",
     "output_type": "stream",
     "text": [
      " 93%|█████████▎| 7000/7500 [33:17<02:03,  4.05it/s]  "
     ]
    },
    {
     "name": "stdout",
     "output_type": "stream",
     "text": [
      "Iteration 56000\n",
      "Meta Train Error 2.3986108601093292\n",
      "Meta Train Error 1.0333333685994148\n"
     ]
    },
    {
     "name": "stderr",
     "output_type": "stream",
     "text": [
      " 95%|█████████▌| 7125/7500 [33:47<01:32,  4.04it/s]"
     ]
    },
    {
     "name": "stdout",
     "output_type": "stream",
     "text": [
      "Iteration 57000\n",
      "Meta Train Error 2.1632602512836456\n",
      "Meta Train Error 1.1800000369548798\n"
     ]
    },
    {
     "name": "stderr",
     "output_type": "stream",
     "text": [
      " 97%|█████████▋| 7250/7500 [34:18<01:01,  4.05it/s]"
     ]
    },
    {
     "name": "stdout",
     "output_type": "stream",
     "text": [
      "Iteration 58000\n",
      "Meta Train Error 1.9559813514351845\n",
      "Meta Train Error 1.2266666889190674\n"
     ]
    },
    {
     "name": "stderr",
     "output_type": "stream",
     "text": [
      " 98%|█████████▊| 7375/7500 [34:49<00:30,  4.04it/s]"
     ]
    },
    {
     "name": "stdout",
     "output_type": "stream",
     "text": [
      "Iteration 59000\n",
      "Meta Train Error 2.196537896990776\n",
      "Meta Train Error 1.1033333465456963\n"
     ]
    },
    {
     "name": "stderr",
     "output_type": "stream",
     "text": [
      "100%|█████████▉| 7499/7500 [35:20<00:00,  4.04it/s]"
     ]
    },
    {
     "name": "stdout",
     "output_type": "stream",
     "text": [
      "Iteration 60000\n",
      "Meta Train Error 2.162126451730728\n",
      "Meta Train Error 1.1533333659172058\n"
     ]
    },
    {
     "name": "stderr",
     "output_type": "stream",
     "text": [
      "100%|██████████| 7500/7500 [35:41<00:00,  3.50it/s]"
     ]
    },
    {
     "name": "stdout",
     "output_type": "stream",
     "text": [
      "Valid Result\n",
      "Meta Valid Error :  1.3371518250107766\n",
      "Meta Valid Accuracy :  0.4474800105243921  std :  0.18822809740505483\n"
     ]
    },
    {
     "name": "stderr",
     "output_type": "stream",
     "text": [
      "\n"
     ]
    }
   ],
   "source": [
    "iteration = 0\n",
    "for task_batch in train_loader:\n",
    "    torch.cuda.empty_cache()\n",
    "    opt.zero_grad()\n",
    "    meta_train_error = []\n",
    "    meta_train_accuracy = []\n",
    "    for batch in zip(*task_batch):\n",
    "        learner = maml.clone()\n",
    "        evaluation_error, evaluation_accuracy = fast_adapt(batch,\n",
    "                                                           learner,\n",
    "                                                           loss,\n",
    "                                                           adaptation_steps,\n",
    "                                                           device)\n",
    "        evaluation_error.backward()\n",
    "        meta_train_error.append(evaluation_error.item())\n",
    "        meta_train_accuracy.append(evaluation_accuracy.item())\n",
    "        iteration += 1 \n",
    "    # Average the accumulated gradients and optimize\n",
    "    for p in maml.parameters():\n",
    "        p.grad.data.mul_(1.0 / len(task_batch))\n",
    "    opt.step()\n",
    "\n",
    "    if iteration % 1000 == 0:\n",
    "        print('Iteration', iteration)\n",
    "        print('Meta Train Error : ', round(np.mean(meta_train_error),4),\\\n",
    "              \" std : \", round(np.std(meta_train_error), 4))\n",
    "        print('Meta Train Accuracy : ', round(np.mean(meta_train_accuracy), 4),\\\n",
    "              \" std : \", round(np.std(meta_train_accuracy), 4))\n",
    "    \n",
    "    if iteration % 5000 == 0:\n",
    "        # Compute meta-validation loss\n",
    "        meta_valid_error = []\n",
    "        meta_valid_accuracy = []\n",
    "        for task_batch in val_loader:\n",
    "            for batch in zip(*task_batch):\n",
    "                learner = maml.clone()\n",
    "                evaluation_error, evaluation_accuracy = fast_adapt(batch,\n",
    "                                                                   learner,\n",
    "                                                                   loss,\n",
    "                                                                   adaptation_steps,\n",
    "                                                                   device)\n",
    "                meta_valid_error.append(evaluation_error.item())\n",
    "                meta_valid_accuracy.append(evaluation_accuracy.item())\n",
    "        print('Valid Result')\n",
    "        print('Meta Valid Error : ', round(np.mean(meta_valid_error),4),\\\n",
    "              \" std : \", round(np.std(meta_valid_error), 4))\n",
    "        print('Meta Valid Accuracy : ', round(np.mean(meta_valid_accuracy), 4),\\\n",
    "              \" std : \", round(np.std(meta_valid_accuracy), 4))"
   ]
  },
  {
   "cell_type": "code",
   "execution_count": 9,
   "metadata": {},
   "outputs": [
    {
     "data": {
      "text/plain": [
       "4.613333463668823"
      ]
     },
     "execution_count": 9,
     "metadata": {},
     "output_type": "execute_result"
    }
   ],
   "source": [
    "meta_train_accuracy"
   ]
  },
  {
   "cell_type": "code",
   "execution_count": 10,
   "metadata": {},
   "outputs": [
    {
     "name": "stdout",
     "output_type": "stream",
     "text": [
      "Valid Result\n",
      "Meta Valid Error :  1.3157  std :  0.1907\n",
      "Meta Valid Accuracy :  0.4559  std :  0.0972\n"
     ]
    }
   ],
   "source": [
    "meta_test_error = []\n",
    "meta_test_accuracy = []\n",
    "for task_batch in test_loader:\n",
    "    for batch in zip(*task_batch):\n",
    "        learner = maml.clone()\n",
    "        evaluation_error, evaluation_accuracy = fast_adapt(batch,\n",
    "                                                           learner,\n",
    "                                                           loss,\n",
    "                                                           adaptation_steps,\n",
    "                                                           device)\n",
    "        meta_test_error.append(evaluation_error.item())\n",
    "        meta_test_accuracy.append(evaluation_accuracy.item())\n",
    "        torch.cuda.empty_cache()\n",
    "print('Valid Result')\n",
    "print('Meta Valid Error : ', round(np.mean(meta_test_error),4),\\\n",
    "        \" std : \", round(np.std(meta_test_error), 4))\n",
    "print('Meta Valid Accuracy : ', round(np.mean(meta_test_accuracy), 4),\\\n",
    "        \" std : \", round(np.std(meta_test_accuracy), 4))"
   ]
  },
  {
   "cell_type": "code",
   "execution_count": null,
   "metadata": {},
   "outputs": [],
   "source": []
  }
 ],
 "metadata": {
  "interpreter": {
   "hash": "0b04a425eb4e2f19ba39b3c02446514a59b882cc39dc361899bc0b5cea762b69"
  },
  "kernelspec": {
   "display_name": "graph_rec",
   "language": "python",
   "name": "python3"
  },
  "language_info": {
   "codemirror_mode": {
    "name": "ipython",
    "version": 3
   },
   "file_extension": ".py",
   "mimetype": "text/x-python",
   "name": "python",
   "nbconvert_exporter": "python",
   "pygments_lexer": "ipython3",
   "version": "3.8.11"
  }
 },
 "nbformat": 4,
 "nbformat_minor": 4
}
